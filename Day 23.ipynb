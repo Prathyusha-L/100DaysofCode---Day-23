{
 "cells": [
  {
   "cell_type": "markdown",
   "metadata": {},
   "source": [
    "# Name: - L Prathyusha"
   ]
  },
  {
   "cell_type": "markdown",
   "metadata": {},
   "source": [
    "## Rolling mean"
   ]
  },
  {
   "cell_type": "code",
   "execution_count": 3,
   "metadata": {},
   "outputs": [],
   "source": [
    "import pandas as pd\n",
    "from matplotlib import pyplot\n",
    "from matplotlib import pyplot as plt\n",
    "from statsmodels.tsa.api import ExponentialSmoothing, SimpleExpSmoothing,Holt\n",
    "from pylab import rcParams\n",
    "rcParams['figure.figsize']=20,5"
   ]
  },
  {
   "cell_type": "code",
   "execution_count": 5,
   "metadata": {},
   "outputs": [
    {
     "data": {
      "text/html": [
       "<div>\n",
       "<style scoped>\n",
       "    .dataframe tbody tr th:only-of-type {\n",
       "        vertical-align: middle;\n",
       "    }\n",
       "\n",
       "    .dataframe tbody tr th {\n",
       "        vertical-align: top;\n",
       "    }\n",
       "\n",
       "    .dataframe thead th {\n",
       "        text-align: right;\n",
       "    }\n",
       "</style>\n",
       "<table border=\"1\" class=\"dataframe\">\n",
       "  <thead>\n",
       "    <tr style=\"text-align: right;\">\n",
       "      <th></th>\n",
       "      <th>Units</th>\n",
       "    </tr>\n",
       "    <tr>\n",
       "      <th>DATE</th>\n",
       "      <th></th>\n",
       "    </tr>\n",
       "  </thead>\n",
       "  <tbody>\n",
       "    <tr>\n",
       "      <th>01-01-1985</th>\n",
       "      <td>72.5052</td>\n",
       "    </tr>\n",
       "    <tr>\n",
       "      <th>02-01-1985</th>\n",
       "      <td>70.6720</td>\n",
       "    </tr>\n",
       "    <tr>\n",
       "      <th>03-01-1985</th>\n",
       "      <td>62.4502</td>\n",
       "    </tr>\n",
       "    <tr>\n",
       "      <th>04-01-1985</th>\n",
       "      <td>57.4714</td>\n",
       "    </tr>\n",
       "    <tr>\n",
       "      <th>05-01-1985</th>\n",
       "      <td>55.3151</td>\n",
       "    </tr>\n",
       "    <tr>\n",
       "      <th>...</th>\n",
       "      <td>...</td>\n",
       "    </tr>\n",
       "    <tr>\n",
       "      <th>09-01-2017</th>\n",
       "      <td>98.6154</td>\n",
       "    </tr>\n",
       "    <tr>\n",
       "      <th>10-01-2017</th>\n",
       "      <td>93.6137</td>\n",
       "    </tr>\n",
       "    <tr>\n",
       "      <th>11-01-2017</th>\n",
       "      <td>97.3359</td>\n",
       "    </tr>\n",
       "    <tr>\n",
       "      <th>12-01-2017</th>\n",
       "      <td>114.7212</td>\n",
       "    </tr>\n",
       "    <tr>\n",
       "      <th>01-01-2018</th>\n",
       "      <td>129.4048</td>\n",
       "    </tr>\n",
       "  </tbody>\n",
       "</table>\n",
       "<p>397 rows × 1 columns</p>\n",
       "</div>"
      ],
      "text/plain": [
       "               Units\n",
       "DATE                \n",
       "01-01-1985   72.5052\n",
       "02-01-1985   70.6720\n",
       "03-01-1985   62.4502\n",
       "04-01-1985   57.4714\n",
       "05-01-1985   55.3151\n",
       "...              ...\n",
       "09-01-2017   98.6154\n",
       "10-01-2017   93.6137\n",
       "11-01-2017   97.3359\n",
       "12-01-2017  114.7212\n",
       "01-01-2018  129.4048\n",
       "\n",
       "[397 rows x 1 columns]"
      ]
     },
     "execution_count": 5,
     "metadata": {},
     "output_type": "execute_result"
    }
   ],
   "source": [
    "series=pd.read_csv('C:/Users/Prathyu Lachireddy/Desktop/BP/Electric_Production.csv',header=0, index_col=0)\n",
    "series"
   ]
  },
  {
   "cell_type": "code",
   "execution_count": 6,
   "metadata": {},
   "outputs": [
    {
     "name": "stdout",
     "output_type": "stream",
     "text": [
      "               Units\n",
      "DATE                \n",
      "02-01-1985       NaN\n",
      "03-01-1985       NaN\n",
      "04-01-1985       NaN\n",
      "05-01-1985       NaN\n",
      "06-01-1985  60.79982\n",
      "07-01-1985  59.18946\n",
      "08-01-1985  59.34912\n",
      "09-01-1985  59.97176\n",
      "10-01-1985  60.17182\n",
      "11-01-1985  60.15384\n"
     ]
    }
   ],
   "source": [
    "#rolling average transform\n",
    "rollingseries=series[1:50].rolling(window=5)\n",
    "\n",
    "rollingmean=rollingseries.mean()\n",
    "\n",
    "print(rollingmean.head(10))"
   ]
  },
  {
   "cell_type": "code",
   "execution_count": 7,
   "metadata": {},
   "outputs": [
    {
     "data": {
      "image/png": "[encoded data removed]",
      "text/plain": [
       "<Figure size 1440x360 with 1 Axes>"
      ]
     },
     "metadata": {
      "needs_background": "light"
     },
     "output_type": "display_data"
    }
   ],
   "source": [
    "rollingmean.plot(color='red')\n",
    "pyplot.show()"
   ]
  },
  {
   "cell_type": "code",
   "execution_count": 9,
   "metadata": {},
   "outputs": [
    {
     "name": "stdout",
     "output_type": "stream",
     "text": [
      "               Units\n",
      "DATE                \n",
      "02-01-1985       NaN\n",
      "03-01-1985       NaN\n",
      "04-01-1985       NaN\n",
      "05-01-1985       NaN\n",
      "06-01-1985       NaN\n",
      "07-01-1985       NaN\n",
      "08-01-1985       NaN\n",
      "09-01-1985       NaN\n",
      "10-01-1985       NaN\n",
      "11-01-1985  60.47683\n"
     ]
    }
   ],
   "source": [
    "# Rolling Avg Transform\n",
    "rollingseries=series[1:50].rolling(window=10)\n",
    "\n",
    "rollingmean=rollingseries.mean()\n",
    "print(rollingmean.head(10))"
   ]
  },
  {
   "cell_type": "code",
   "execution_count": null,
   "metadata": {},
   "outputs": [],
   "source": []
  }
 ],
 "metadata": {
  "kernelspec": {
   "display_name": "Python 3",
   "language": "python",
   "name": "python3"
  },
  "language_info": {
   "codemirror_mode": {
    "name": "ipython",
    "version": 3
   },
   "file_extension": ".py",
   "mimetype": "text/x-python",
   "name": "python",
   "nbconvert_exporter": "python",
   "pygments_lexer": "ipython3",
   "version": "3.8.5"
  }
 },
 "nbformat": 4,
 "nbformat_minor": 4
}
